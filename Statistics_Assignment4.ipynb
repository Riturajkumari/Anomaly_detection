{
  "nbformat": 4,
  "nbformat_minor": 0,
  "metadata": {
    "colab": {
      "provenance": [],
      "authorship_tag": "ABX9TyMdVF1VkCMJ8IEhoz4tJfp8",
      "include_colab_link": true
    },
    "kernelspec": {
      "name": "python3",
      "display_name": "Python 3"
    },
    "language_info": {
      "name": "python"
    }
  },
  "cells": [
    {
      "cell_type": "markdown",
      "metadata": {
        "id": "view-in-github",
        "colab_type": "text"
      },
      "source": [
        "<a href=\"https://colab.research.google.com/github/Riturajkumari/Anomaly_detection/blob/main/Statistics_Assignment4.ipynb\" target=\"_parent\"><img src=\"https://colab.research.google.com/assets/colab-badge.svg\" alt=\"Open In Colab\"/></a>"
      ]
    },
    {
      "cell_type": "markdown",
      "source": [
        "**Q1: What is Estimation Statistics? Explain point estimate and interval estimate.**"
      ],
      "metadata": {
        "id": "-z5H2RWhDHag"
      }
    },
    {
      "cell_type": "markdown",
      "source": [
        "Estimation is the process of estimating the value of a parameter of a population from a sample. There are two types of estimation: point estimation and interval estimation.\n",
        "\n",
        "- Point estimation is the process of estimating the value of a parameter using a single value. For example, if we want to estimate the mean height of all students in a school, we can use the sample mean as the point estimate.\n",
        "\n",
        "- Interval estimation is the process of estimating the value of a parameter using an interval. For example, if we want to estimate the mean height of all students in a school with 95% confidence, we can use the sample mean and construct a confidence interval around it."
      ],
      "metadata": {
        "id": "b0emp_4YGAh6"
      }
    },
    {
      "cell_type": "code",
      "source": [],
      "metadata": {
        "id": "HYKSvHJlDNgE"
      },
      "execution_count": null,
      "outputs": []
    },
    {
      "cell_type": "markdown",
      "source": [
        "**Q2. Write a Python function to estimate the population mean using a sample mean and standard\n",
        "deviation.**"
      ],
      "metadata": {
        "id": "nBRzCnzpDNxs"
      }
    },
    {
      "cell_type": "markdown",
      "source": [
        "Here is a Python function that estimates the population mean using a sample mean and standard deviation:\n"
      ],
      "metadata": {
        "id": "Ogr3UVBgGTv4"
      }
    },
    {
      "cell_type": "code",
      "source": [
        "def estimate_population_mean(sample_mean, sample_std_deviation, sample_size):\n",
        "    import math\n",
        "    t_value = 2.064 # for 95% confidence interval and degrees of freedom = n-1 = sample_size - 1\n",
        "    lower_bound = sample_mean - t_value * (sample_std_deviation / math.sqrt(sample_size))\n",
        "    upper_bound = sample_mean + t_value * (sample_std_deviation / math.sqrt(sample_size))\n",
        "    return (lower_bound, upper_bound)\n"
      ],
      "metadata": {
        "id": "20zQUjH1DRd4"
      },
      "execution_count": null,
      "outputs": []
    },
    {
      "cell_type": "code",
      "source": [
        "# function by passing in the sample mean, sample standard deviation and sample size as arguments.\n",
        "estimate_population_mean(23,45,6)"
      ],
      "metadata": {
        "colab": {
          "base_uri": "https://localhost:8080/"
        },
        "id": "6JIsj-SZDR7A",
        "outputId": "ff36186b-2289-484f-d0f9-3ea981291ca9"
      },
      "execution_count": null,
      "outputs": [
        {
          "output_type": "execute_result",
          "data": {
            "text/plain": [
              "(-14.918101218283603, 60.9181012182836)"
            ]
          },
          "metadata": {},
          "execution_count": 3
        }
      ]
    },
    {
      "cell_type": "code",
      "source": [],
      "metadata": {
        "id": "uPpwIJ09Gvhm"
      },
      "execution_count": null,
      "outputs": []
    },
    {
      "cell_type": "markdown",
      "source": [
        "**Q3: What is Hypothesis testing? Why is it used? State the importance of Hypothesis testing.**"
      ],
      "metadata": {
        "id": "7KVir3cCDSHX"
      }
    },
    {
      "cell_type": "markdown",
      "source": [
        "- Hypothesis testing, sometimes called significance testing, is an act in statistics whereby an analyst tests an assumption regarding a population parameter. The methodology employed by the analyst depends on the nature of the data used and the reason for the analysis.\n",
        "\n",
        "- Hypothesis testing is used to assess the plausibility of a hypothesis by using sample data. Such data may come from a larger population, or from a data-generating process. The word \"population\" will be used for both of these cases in the following descriptions."
      ],
      "metadata": {
        "id": "QRYHx3alHK6Y"
      }
    },
    {
      "cell_type": "markdown",
      "source": [
        "- Hypothesis testing is used to assess the plausibility of a hypothesis by using sample data.\n",
        "- The test provides evidence concerning the plausibility of the hypothesis, given the data.\n",
        "- Statistical analysts test a hypothesis by measuring and examining a random sample of the population being analyzed.\n",
        "- The four steps of hypothesis testing include stating the hypotheses,\n",
        "- formulating an analysis plan, analyzing the sample data, and analyzing the result."
      ],
      "metadata": {
        "id": "F_S0fnCgHUzH"
      }
    },
    {
      "cell_type": "code",
      "source": [],
      "metadata": {
        "id": "OjZ8iLcIERUx"
      },
      "execution_count": null,
      "outputs": []
    },
    {
      "cell_type": "markdown",
      "source": [
        "**Q4. Create a hypothesis that states whether the average weight of male college students is greater than\n",
        "the average weight of female college students.**"
      ],
      "metadata": {
        "id": "EFuymPULERjG"
      }
    },
    {
      "cell_type": "markdown",
      "source": [
        "- A hypothesis is a statement that can be tested by scientific research. In this case, a hypothesis could be that the average weight of male college students is greater than the average weight of female college students.\n",
        "- This hypothesis can be tested by collecting data on the weights of male and female college students and comparing the averages.\n",
        "- For example, one study on college students found that the men had an average weight of about 66 kg and an SD of about 9 kg. The women had an average weight of about 55 kg and an SD of 9 kg.\n",
        "-  However, this study only provides data for one specific group of college students and may not be representative of all college students."
      ],
      "metadata": {
        "id": "NSs41oSnLBIq"
      }
    },
    {
      "cell_type": "code",
      "source": [],
      "metadata": {
        "id": "6b53OJXTEUd2"
      },
      "execution_count": null,
      "outputs": []
    },
    {
      "cell_type": "markdown",
      "source": [
        "**Q5. Write a Python script to conduct a hypothesis test on the difference between two population means,\n",
        "given a sample from each population.**"
      ],
      "metadata": {
        "id": "qTXcrbNrEUpO"
      }
    },
    {
      "cell_type": "markdown",
      "source": [
        "**Python script that conducts a hypothesis test on the difference between two population means given a sample from each population.**\n"
      ],
      "metadata": {
        "id": "vKHWJS--MTh8"
      }
    },
    {
      "cell_type": "code",
      "source": [
        "import numpy as np\n",
        "from scipy.stats import ttest_ind\n",
        "\n",
        "def hypothesis_test(pop1, pop2):\n",
        "    # Calculate the means of the two populations\n",
        "    mean1 = np.mean(pop1)\n",
        "    mean2 = np.mean(pop2)\n",
        "\n",
        "    # Calculate the standard deviations of the two populations\n",
        "    std1 = np.std(pop1)\n",
        "    std2 = np.std(pop2)\n",
        "\n",
        "    # Calculate the sample sizes of the two populations\n",
        "    n1 = len(pop1)\n",
        "    n2 = len(pop2)\n",
        "\n",
        "    # Calculate the degrees of freedom\n",
        "    df = n1 + n2 - 2\n",
        "\n",
        "    # Calculate the pooled standard deviation\n",
        "    s_pooled = np.sqrt(((n1 - 1) * std1 ** 2 + (n2 - 1) * std2 ** 2) / df)\n",
        "\n",
        "    # Calculate the t-statistic\n",
        "    t_statistic = (mean1 - mean2) / (s_pooled * np.sqrt(1 / n1 + 1 / n2))\n",
        "\n",
        "    # Calculate the p-value\n",
        "    p_value = ttest_ind(pop1, pop2)[1]\n",
        "\n",
        "    # Print the results\n",
        "    print(\"t-statistic: \", t_statistic)\n",
        "    print(\"p-value: \", p_value)\n",
        "\n",
        "# Example usage:\n",
        "pop1 = [5, 7, 9, 11, 13]\n",
        "pop2 = [6, 8, 10, 12, 14]\n",
        "hypothesis_test(pop1, pop2)\n"
      ],
      "metadata": {
        "colab": {
          "base_uri": "https://localhost:8080/"
        },
        "id": "IB6lrOSVEZO7",
        "outputId": "8264ed8f-7df3-429c-c452-945469baf003"
      },
      "execution_count": null,
      "outputs": [
        {
          "output_type": "stream",
          "name": "stdout",
          "text": [
            "t-statistic:  -0.5590169943749473\n",
            "p-value:  0.6305360755569764\n"
          ]
        }
      ]
    },
    {
      "cell_type": "markdown",
      "source": [
        "- This script uses the numpy and scipy.stats libraries to calculate the means and standard deviations of two populations and then performs a two-sample t-test to determine if there is a significant difference between them. The ttest_ind() function from scipy.stats is used to calculate the p-value."
      ],
      "metadata": {
        "id": "BvDqULq9MuD6"
      }
    },
    {
      "cell_type": "code",
      "source": [],
      "metadata": {
        "id": "SIpqdVF8EZ55"
      },
      "execution_count": null,
      "outputs": []
    },
    {
      "cell_type": "markdown",
      "source": [
        "**Q6: What is a null and alternative hypothesis? Give some examples.**"
      ],
      "metadata": {
        "id": "Lm4oRtCREaGC"
      }
    },
    {
      "cell_type": "markdown",
      "source": [
        "A **null hypothesis** is a statement that there is no significant difference between a specified population parameter and a statistic derived from a sample of that population. The null hypothesis is often abbreviated as H0. For example, if we want to test whether a new drug is effective in treating a disease, the null hypothesis would be that the drug has no effect on the disease."
      ],
      "metadata": {
        "id": "VV6mFAoWM_Co"
      }
    },
    {
      "cell_type": "markdown",
      "source": [
        "An **alternative hypothesis** is a statement that there is a significant difference between a specified population parameter and a statistic derived from a sample of that population. The alternative hypothesis is often abbreviated as Ha or H1. For example, if we want to test whether a new drug is effective in treating a disease, the alternative hypothesis would be that the drug has an effect on the disease."
      ],
      "metadata": {
        "id": "4pJ_LPLDNRkR"
      }
    },
    {
      "cell_type": "markdown",
      "source": [
        "- Here are some more examples of null and alternative hypotheses:\n",
        "\n",
        "- Null hypothesis: There is no significant difference between the mean scores of two groups.\n",
        "  - Alternative hypothesis: There is a significant difference between the mean scores of two groups.\n",
        "\n",
        "- Null hypothesis: There is no relationship between age and blood pressure.\n",
        "  - Alternative hypothesis: There is a relationship between age and blood pressure.\n",
        "\n",
        "- Null hypothesis: There is no difference in the proportion of men and women who smoke.\n",
        "  - Alternative hypothesis: There is a difference in the proportion of men and women who smoke."
      ],
      "metadata": {
        "id": "Sg4vs3dFNeYt"
      }
    },
    {
      "cell_type": "code",
      "source": [],
      "metadata": {
        "id": "wogI77YlE5pf"
      },
      "execution_count": null,
      "outputs": []
    },
    {
      "cell_type": "markdown",
      "source": [
        "**Q7: Write down the steps involved in hypothesis testing.**"
      ],
      "metadata": {
        "id": "uGDeQJbIE52L"
      }
    },
    {
      "cell_type": "markdown",
      "source": [
        "Hypothesis testing is a formal procedure for investigating our ideas about the world using statistics. It is most often used by scientists to test specific predictions, called hypotheses.\n",
        "- There are 5 main steps in hypothesis testing:\n",
        "     - State your research hypothesis as a null hypothesis and alternate hypothesis (H o) and (H a or H 1 ).\n",
        "     - Collect data in a way designed to test the hypothesis.\n",
        "     - Perform an appropriate statistical test.\n",
        "     - Decide whether to reject or fail to reject your null hypothesis.\n",
        "     - Present the findings in  results and discussion section."
      ],
      "metadata": {
        "id": "7VlU_w5fN_TF"
      }
    },
    {
      "cell_type": "code",
      "source": [],
      "metadata": {
        "id": "ZBAUkS-VE7yZ"
      },
      "execution_count": null,
      "outputs": []
    },
    {
      "cell_type": "markdown",
      "source": [
        "**Q8. Define p-value and explain its significance in hypothesis testing.**"
      ],
      "metadata": {
        "id": "6sfghQx4E8Eo"
      }
    },
    {
      "cell_type": "markdown",
      "source": [
        "- In hypothesis testing, the p-value is used to determine whether the null hypothesis should be rejected or retained. It represents the probability of observing a test statistic at least as extreme as the one computed from the sample data, assuming that the null hypothesis is true.\n",
        "- The level of statistical significance is often expressed as a p-value between 0 and 1, with a p-value less than 0.05 typically considered statistically significant1. If the p-value is higher than the significance level, the null hypothesis is not refuted, and the results are not statistically significant."
      ],
      "metadata": {
        "id": "CRD389TfPA2U"
      }
    },
    {
      "cell_type": "code",
      "source": [],
      "metadata": {
        "id": "v0Fa6zj0FAPg"
      },
      "execution_count": null,
      "outputs": []
    },
    {
      "cell_type": "markdown",
      "source": [
        "**Q9. Generate a Student's t-distribution plot using Python's matplotlib library, with the degrees of freedom\n",
        "parameter set to 10.**"
      ],
      "metadata": {
        "id": "qLGl0OdlFAeE"
      }
    },
    {
      "cell_type": "markdown",
      "source": [
        "- generate a Student’s t-distribution plot using Python’s matplotlib library with the degrees of freedom parameter set to 10:\n"
      ],
      "metadata": {
        "id": "GSK6xQa8PZ9-"
      }
    },
    {
      "cell_type": "code",
      "source": [
        "import numpy as np\n",
        "import matplotlib.pyplot as plt\n",
        "from scipy.stats import t\n",
        "\n",
        "df = 10 # degrees of freedom\n",
        "\n",
        "x = np.linspace(-5, 5, 1000)\n",
        "y = t.pdf(x, df)\n",
        "\n",
        "plt.plot(x, y)\n",
        "plt.title(\"Student's t-distribution plot with degrees of freedom = 10\")\n",
        "plt.xlabel('x')\n",
        "plt.ylabel('pdf')\n",
        "plt.show()\n"
      ],
      "metadata": {
        "colab": {
          "base_uri": "https://localhost:8080/",
          "height": 472
        },
        "id": "TxaOqXmPFDoH",
        "outputId": "9fef5368-8b45-4168-cb54-b11764ce1596"
      },
      "execution_count": null,
      "outputs": [
        {
          "output_type": "display_data",
          "data": {
            "text/plain": [
              "<Figure size 640x480 with 1 Axes>"
            ],
            "image/png": "[encoded data removed]"
          },
          "metadata": {}
        }
      ]
    },
    {
      "cell_type": "code",
      "source": [],
      "metadata": {
        "id": "GhZWp3xvFFeV"
      },
      "execution_count": null,
      "outputs": []
    },
    {
      "cell_type": "markdown",
      "source": [
        "**Q10. Write a Python program to calculate the two-sample t-test for independent samples, given two\n",
        "random samples of equal size and a null hypothesis that the population means are equal.**"
      ],
      "metadata": {
        "id": "XZiwLmbuFFrn"
      }
    },
    {
      "cell_type": "markdown",
      "source": [
        "-  Python program that calculates the two-sample t-test for independent samples given two random samples of equal size and a null hypothesis that the population means are equal. This example uses the Scipy library to perform the t-test."
      ],
      "metadata": {
        "id": "gEAWjdpaP37C"
      }
    },
    {
      "cell_type": "code",
      "source": [
        "import numpy as np\n",
        "from scipy.stats import ttest_ind\n",
        "\n",
        "# Sample data\n",
        "data_group1 = np.array([1, 2, 3, 4, 5])\n",
        "data_group2 = np.array([6, 7, 8, 9, 10])\n",
        "\n",
        "# Calculate t-statistic and p-value\n",
        "t_statistic, p_value = ttest_ind(data_group1, data_group2)\n",
        "\n",
        "print(\"t-statistic:\", t_statistic)\n",
        "print(\"p-value:\", p_value)\n"
      ],
      "metadata": {
        "colab": {
          "base_uri": "https://localhost:8080/"
        },
        "id": "zGd8pufGFJk5",
        "outputId": "d6e9627c-ddab-4136-9cf3-8435a9035345"
      },
      "execution_count": null,
      "outputs": [
        {
          "output_type": "stream",
          "name": "stdout",
          "text": [
            "t-statistic: -5.0\n",
            "p-value: 0.001052825793366539\n"
          ]
        }
      ]
    },
    {
      "cell_type": "markdown",
      "source": [
        "- The t-statistic value is used to determine whether the difference between the two sample means is statistically significant. The p-value is used to determine whether the null hypothesis can be rejected or not. If the p-value is less than or equal to the significance level (usually 0.05), then we reject the null hypothesis."
      ],
      "metadata": {
        "id": "nm69iZG_QNs6"
      }
    },
    {
      "cell_type": "code",
      "source": [],
      "metadata": {
        "id": "eWFZMfjtFKPZ"
      },
      "execution_count": null,
      "outputs": []
    },
    {
      "cell_type": "markdown",
      "source": [
        "**Q11: What is Student’s t distribution? When to use the t-Distribution.**"
      ],
      "metadata": {
        "id": "Ql-K6tz6FKbh"
      }
    },
    {
      "cell_type": "markdown",
      "source": [
        "- Student’s t-distribution is a probability distribution that is used in statistics for making inferences about the population mean when the sample size is small or when the population standard deviation is unknown.\n",
        "-  The t distribution has more variability than the normal distribution, and its shape depends on the degrees of freedom, which is related to the sample size.\n",
        "- The t-distribution is most often used to find the critical values for a confidence interval when the data is approximately normally distributed. It is also used to find the corresponding p-value from a statistical test that uses the t-distribution (t-tests, regression analysis)."
      ],
      "metadata": {
        "id": "T7Dk4HX6QjDH"
      }
    },
    {
      "cell_type": "code",
      "source": [],
      "metadata": {
        "id": "Tdgg0YUaFN7N"
      },
      "execution_count": null,
      "outputs": []
    },
    {
      "cell_type": "markdown",
      "source": [
        "**Q12: What is t-statistic? State the formula for t-statistic.**"
      ],
      "metadata": {
        "id": "oRvjjU3lFOGZ"
      }
    },
    {
      "cell_type": "markdown",
      "source": [
        "- The t-statistic is a measure of the difference between the sample mean and the null hypothesis mean, relative to the sample standard deviation. It is used to determine whether there is a significant difference between the means of two groups. The formula for t-statistic is:"
      ],
      "metadata": {
        "id": "_hycLeufRDzQ"
      }
    },
    {
      "cell_type": "markdown",
      "source": [
        "t = (x̄1 - x̄2) / (s * sqrt(1/n1 + 1/n2))\n",
        "\n",
        "where x̄1 and x̄2 are the means of the two groups being compared, s is the pooled standard error of the two groups, n1 and n2 are the number of observations in each of the groups ."
      ],
      "metadata": {
        "id": "Xo_mvLiVRKEC"
      }
    },
    {
      "cell_type": "code",
      "source": [],
      "metadata": {
        "id": "AcO0VfELFR2v"
      },
      "execution_count": null,
      "outputs": []
    },
    {
      "cell_type": "markdown",
      "source": [
        "**Q13. A coffee shop owner wants to estimate the average daily revenue for their shop. They take a random\n",
        "sample of 50 days and find the sample mean revenue to be $500 with a standard deviation of $50.\n",
        "Estimate the population mean revenue with a 95% confidence interval.**"
      ],
      "metadata": {
        "id": "8d7yAlFoFSCG"
      }
    },
    {
      "cell_type": "markdown",
      "source": [
        "- To estimate the population mean revenue with a 95% confidence interval, we can use the following formula:\n"
      ],
      "metadata": {
        "id": "fOe4VaqCRcsR"
      }
    },
    {
      "cell_type": "code",
      "source": [
        "sample_mean= 500\n",
        "standard_deviation=50\n",
        "sample_size=50\n",
        "z= 1.96\n",
        "import math"
      ],
      "metadata": {
        "id": "H9PotU4CRqfH"
      },
      "execution_count": null,
      "outputs": []
    },
    {
      "cell_type": "code",
      "source": [
        "Confidence_interval = sample_mean+-z* (standard_deviation / math.sqrt(sample_size))\n"
      ],
      "metadata": {
        "id": "SkF89x8PFYSC"
      },
      "execution_count": null,
      "outputs": []
    },
    {
      "cell_type": "code",
      "source": [
        "Confidence_interval = 500 +- 1.96 * (50 / math.sqrt(50))\n",
        "\n"
      ],
      "metadata": {
        "id": "vZFj0TJyFY8S"
      },
      "execution_count": null,
      "outputs": []
    },
    {
      "cell_type": "code",
      "source": [
        "Confidence_interval"
      ],
      "metadata": {
        "colab": {
          "base_uri": "https://localhost:8080/"
        },
        "id": "qtI9h0z9SuN2",
        "outputId": "568d7f64-6047-45c0-cf7c-ed0d667974b7"
      },
      "execution_count": null,
      "outputs": [
        {
          "output_type": "execute_result",
          "data": {
            "text/plain": [
              "486.1407070887437"
            ]
          },
          "metadata": {},
          "execution_count": 19
        }
      ]
    },
    {
      "cell_type": "markdown",
      "source": [
        "**Q14. A researcher hypothesizes that a new drug will decrease blood pressure by 10 mmHg. They conduct a\n",
        "clinical trial with 100 patients and find that the sample mean decrease in blood pressure is 8 mmHg with a\n",
        "standard deviation of 3 mmHg. Test the hypothesis with a significance level of 0.05.**"
      ],
      "metadata": {
        "id": "_b33mzVZFZK3"
      }
    },
    {
      "cell_type": "markdown",
      "source": [
        "To test the hypothesis with a significance level of 0.05, we can use a one-sample t-test.\n",
        "\n",
        "The null hypothesis is that the mean decrease in blood pressure is 10 mmHg. The alternative hypothesis is that the mean decrease in blood pressure is less than 10 mmHg.\n",
        "\n",
        "The sample mean decrease in blood pressure is 8 mmHg with a standard deviation of 3 mmHg."
      ],
      "metadata": {
        "id": "U011-XkSTOob"
      }
    },
    {
      "cell_type": "markdown",
      "source": [
        "We can calculate the t-value as follows:\n",
        "\n",
        "t = (sample_mean - hypothesized_mean) / (sample_std_dev / sqrt(sample_size))\n",
        "\n",
        "where sample_mean = 8, hypothesized_mean = 10, sample_std_dev = 3, and sample_size = 100.\n",
        "\n",
        "Plugging in these values, we get:\n",
        "\n",
        "t = (8 - 10) / (3 / sqrt(100)) = -6.67"
      ],
      "metadata": {
        "id": "qja3yIlQTQM1"
      }
    },
    {
      "cell_type": "code",
      "source": [
        "from scipy.stats import ttest_1samp\n",
        "\n",
        "# define variables\n",
        "sample_mean = 8\n",
        "hypothesized_mean = 10\n",
        "sample_std_dev = 3\n",
        "sample_size = 100\n",
        "\n",
        "# calculate t-value\n",
        "t_value = (sample_mean - hypothesized_mean) / (sample_std_dev / (sample_size ** 0.5))\n",
        "\n",
        "# calculate p-value\n",
        "p_value = ttest_1samp([sample_mean] * sample_size, hypothesized_mean)[1]\n",
        "\n",
        "print(\"t-value:\", t_value)\n",
        "print(\"p-value:\", p_value)\n"
      ],
      "metadata": {
        "colab": {
          "base_uri": "https://localhost:8080/"
        },
        "id": "cdmFkOsWFdme",
        "outputId": "597e6951-9428-44da-8983-49d629377342"
      },
      "execution_count": null,
      "outputs": [
        {
          "output_type": "stream",
          "name": "stdout",
          "text": [
            "t-value: -6.666666666666667\n",
            "p-value: 0.0\n"
          ]
        },
        {
          "output_type": "stream",
          "name": "stderr",
          "text": [
            "/usr/local/lib/python3.10/dist-packages/scipy/stats/_axis_nan_policy.py:502: RuntimeWarning: Precision loss occurred in moment calculation due to catastrophic cancellation. This occurs when the data are nearly identical. Results may be unreliable.\n",
            "  res = hypotest_fun_out(*samples, **kwds)\n"
          ]
        }
      ]
    },
    {
      "cell_type": "code",
      "source": [],
      "metadata": {
        "id": "rECm8JrZFeEp"
      },
      "execution_count": null,
      "outputs": []
    },
    {
      "cell_type": "markdown",
      "source": [
        "**Q15. An electronics company produces a certain type of product with a mean weight of 5 pounds and a\n",
        "standard deviation of 0.5 pounds. A random sample of 25 products is taken, and the sample mean weight\n",
        "is found to be 4.8 pounds. Test the hypothesis that the true mean weight of the products is less than 5\n",
        "pounds with a significance level of 0.01.**"
      ],
      "metadata": {
        "id": "yHAxX4T-FeOS"
      }
    },
    {
      "cell_type": "markdown",
      "source": [
        "- To test the hypothesis that the true mean weight of the products is less than 5 pounds with a significance level of 0.01, we can use a one-sample t-test."
      ],
      "metadata": {
        "id": "I0O72imSUP8-"
      }
    },
    {
      "cell_type": "code",
      "source": [
        "import numpy as np\n",
        "from scipy.stats import ttest_1samp\n",
        "\n",
        "# Define the sample mean weight and standard deviation\n",
        "sample_mean = 4.8\n",
        "pop_mean = 5\n",
        "std_dev = 0.5\n",
        "\n",
        "# Define the sample size\n",
        "n = 25\n",
        "\n",
        "# Calculate the t-statistic and p-value\n",
        "t_statistic, p_value = ttest_1samp(np.random.normal(sample_mean, std_dev, n), pop_mean)\n",
        "\n",
        "# Print the results\n",
        "print(\"t-statistic:\", t_statistic)\n",
        "print(\"p-value:\", p_value)\n",
        "\n",
        "if p_value < 0.01:\n",
        "    print(\"We reject the null hypothesis that the true mean weight of the products is less than 5 pounds.\")\n",
        "else:\n",
        "    print(\"We fail to reject the null hypothesis that the true mean weight of the products is less than 5 pounds.\")\n"
      ],
      "metadata": {
        "colab": {
          "base_uri": "https://localhost:8080/"
        },
        "id": "hjAwNpNnFjcC",
        "outputId": "bf8a8af1-8741-4a76-c4d8-d03031347c76"
      },
      "execution_count": null,
      "outputs": [
        {
          "output_type": "stream",
          "name": "stdout",
          "text": [
            "t-statistic: -4.591419421401014\n",
            "p-value: 0.00011737174716252834\n",
            "We reject the null hypothesis that the true mean weight of the products is less than 5 pounds.\n"
          ]
        }
      ]
    },
    {
      "cell_type": "markdown",
      "source": [
        "**Q16. Two groups of students are given different study materials to prepare for a test. The first group (n1 =\n",
        "30) has a mean score of 80 with a standard deviation of 10, and the second group (n2 = 40) has a mean\n",
        "score of 75 with a standard deviation of 8. Test the hypothesis that the population means for the two\n",
        "groups are equal with a significance level of 0.01.**"
      ],
      "metadata": {
        "id": "grYv-PdQFjmg"
      }
    },
    {
      "cell_type": "markdown",
      "source": [
        "- To test the hypothesis that the population means for the two groups are equal with a significance level of 0.01, we can use a two-sample t-test. The null hypothesis is that the population means are equal and the alternative hypothesis is that they are not equal."
      ],
      "metadata": {
        "id": "Lfab1w9AVLFB"
      }
    },
    {
      "cell_type": "code",
      "source": [
        "import numpy as np\n",
        "from scipy.stats import ttest_ind_from_stats\n",
        "\n",
        "n1 = 30\n",
        "mean1 = 80\n",
        "std1 = 10\n",
        "\n",
        "n2 = 40\n",
        "mean2 = 75\n",
        "std2 = 8\n",
        "\n",
        "alpha = 0.01\n",
        "\n",
        "t_statistic, p_value = ttest_ind_from_stats(mean1=mean1, std1=std1, nobs1=n1,\n",
        "                                             mean2=mean2, std2=std2, nobs2=n2,\n",
        "                                             equal_var=False)\n",
        "\n",
        "if p_value < alpha:\n",
        "    print(\"Reject null hypothesis\")\n",
        "else:\n",
        "    print(\"Fail to reject null hypothesis\")\n"
      ],
      "metadata": {
        "colab": {
          "base_uri": "https://localhost:8080/"
        },
        "id": "4QkxQueGFmNl",
        "outputId": "fb98a198-fbf7-4c09-d78f-ec9d43883346"
      },
      "execution_count": null,
      "outputs": [
        {
          "output_type": "stream",
          "name": "stdout",
          "text": [
            "Fail to reject null hypothesis\n"
          ]
        }
      ]
    },
    {
      "cell_type": "code",
      "source": [],
      "metadata": {
        "id": "7GOjM2RRFmvF"
      },
      "execution_count": null,
      "outputs": []
    },
    {
      "cell_type": "markdown",
      "source": [
        "**Q17. A marketing company wants to estimate the average number of ads watched by viewers during a TV\n",
        "program. They take a random sample of 50 viewers and find that the sample mean is 4 with a standard\n",
        "deviation of 1.5. Estimate the population mean with a 99% confidence interval.**"
      ],
      "metadata": {
        "id": "FQAEjZnQFm7x"
      }
    },
    {
      "cell_type": "markdown",
      "source": [
        "To estimate the population mean with a 99% confidence interval, we can use the following formula:\n",
        "\n",
        "Confidence Interval = x +/- t* (s/√n)\n",
        "\n",
        "where: x: sample mean t: t-value that corresponds to the confidence level s: sample standard deviation n: sample size\n",
        "\n",
        "Here, x = 4, s = 1.5 and n = 50."
      ],
      "metadata": {
        "id": "F4lwTtupV_EU"
      }
    },
    {
      "cell_type": "code",
      "source": [
        "import scipy.stats as st\n",
        "\n",
        "t_value = st.t.ppf(0.995, 49)\n"
      ],
      "metadata": {
        "id": "ePNiQNoGFql-"
      },
      "execution_count": null,
      "outputs": []
    },
    {
      "cell_type": "code",
      "source": [
        "lower = 4 - t_value * (1.5 / (50 ** 0.5))\n",
        "upper = 4 + t_value * (1.5 / (50 ** 0.5))\n",
        "\n",
        "print(\"The population mean is between\", round(lower,2), \"and\", round(upper,2), \"with a 99% confidence interval.\")\n"
      ],
      "metadata": {
        "colab": {
          "base_uri": "https://localhost:8080/"
        },
        "id": "Kl61WG3HWGBE",
        "outputId": "0570ab49-4d9c-46e4-ab62-5dc5d2a69bdf"
      },
      "execution_count": null,
      "outputs": [
        {
          "output_type": "stream",
          "name": "stdout",
          "text": [
            "The population mean is between 3.43 and 4.57 with a 99% confidence interval.\n"
          ]
        }
      ]
    },
    {
      "cell_type": "code",
      "source": [],
      "metadata": {
        "id": "qExNRLtDWHkP"
      },
      "execution_count": null,
      "outputs": []
    }
  ]
}